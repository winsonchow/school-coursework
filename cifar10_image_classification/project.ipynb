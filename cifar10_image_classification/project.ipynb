{
 "cells": [
  {
   "cell_type": "markdown",
   "id": "69eca1eb-58ba-4e9f-8c29-b921f62165b5",
   "metadata": {},
   "source": [
    "# 1 Introduction"
   ]
  },
  {
   "cell_type": "markdown",
   "id": "4fd73aed",
   "metadata": {},
   "source": [
    "## 1.1 Project Overview\n",
    "\n",
    "The primary goal of an image classification project using the CIFAR-10 dataset is to develop a machine learning model capable of accurately identifying the category of an image from the ten available classes. This involves several key steps:\n",
    "\n",
    "- Data Preprocessing: Before training, the data must be preprocessed. This could involve normalizing the pixel values of the images, converting the labels into a format that can be understood by the machine learning model (e.g., one-hot encoding), and augmenting the dataset to improve model robustness.\n",
    "- Model Selection: Choosing an appropriate model architecture that is suitable for the task. For CIFAR-10, Convolutional Neural Networks (CNNs) are commonly used due to their ability to capture spatial hierarchies in images.\n",
    "- Training: The model is trained on the training dataset using an optimization algorithm. This step involves defining a loss function, selecting an optimizer, and specifying the number of epochs and batch size for the training process.\n",
    "- Evaluation: After training, the model's performance is evaluated on the test dataset to ensure that it generalizes well to new, unseen images. Metrics such as accuracy, precision, recall, and F1 score can be used for evaluation.\n",
    "- Hyperparameter Tuning and Optimization: To improve the model's performance, hyperparameters such as the learning rate, batch size, and architecture-specific parameters (e.g., the number of layers, the number of filters in each layer) may need to be tuned.\n",
    "- Deployment: Once the model is trained and evaluated, it can be deployed in a real-world application where it can classify new images into one of the ten categories."
   ]
  },
  {
   "cell_type": "markdown",
   "id": "0f71f1e0",
   "metadata": {},
   "source": [
    "## 1.2 Project Objectives\n",
    "\n",
    "The main objectives of an image classification project using the CIFAR-10 dataset can be summarized as follows:\n",
    "\n",
    "- Develop an Efficient Model: Create a machine learning model that achieves high accuracy on the CIFAR-10 test dataset. The model should be able to classify images into one of the ten categories with minimal error.\n",
    "- Understand Image Classification Challenges: Gain insights into the challenges of image classification, such as dealing with intra-class variation and inter-class similarities. Understand how different models and techniques address these challenges.\n",
    "- Experiment with Advanced Techniques: Explore advanced techniques in deep learning and computer vision, such as data augmentation, transfer learning, and different CNN architectures (e.g., ResNet, VGG, AlexNet), to improve model performance.\n",
    "- Evaluate Model Performance: Systematically evaluate the model's performance and understand the trade-offs between different models and configurations. This includes not only maximizing accuracy but also considering computational efficiency and model complexity.\n",
    "- Prepare for Real-world Application: Although CIFAR-10 is a benchmark dataset, the project should aim to develop models and methodologies that are transferable to more complex and diverse real-world image classification tasks.\n",
    "\n",
    "---"
   ]
  },
  {
   "cell_type": "markdown",
   "id": "530ef9a8",
   "metadata": {},
   "source": [
    "# 2 Data Collection"
   ]
  },
  {
   "cell_type": "markdown",
   "id": "28264b87",
   "metadata": {},
   "source": [
    "## 2.1 Dataset Overview\n",
    "\n",
    "The CIFAR-10 dataset is a popular benchmark in the field of computer vision, especially for developing and evaluating machine learning models on the task of image classification. It comprises 60,000 32x32 color images in 10 different classes, with 6,000 images per class. The dataset is divided into 50,000 training images and 10,000 test images. The classes are mutually exclusive and include objects such as airplanes, cars, birds, cats, deer, dogs, frogs, horses, ships, and trucks."
   ]
  },
  {
   "cell_type": "markdown",
   "id": "7793a289",
   "metadata": {},
   "source": [
    "## 2.2 Acquiring the Dataset"
   ]
  },
  {
   "cell_type": "code",
   "execution_count": 67,
   "id": "d7b72f35",
   "metadata": {},
   "outputs": [],
   "source": [
    "import torch\n",
    "from torchvision import datasets, transforms\n",
    "from torch.utils.data import DataLoader"
   ]
  },
  {
   "cell_type": "code",
   "execution_count": 68,
   "id": "c29285f6",
   "metadata": {},
   "outputs": [
    {
     "name": "stdout",
     "output_type": "stream",
     "text": [
      "Files already downloaded and verified\n",
      "Files already downloaded and verified\n"
     ]
    }
   ],
   "source": [
    "# Define transformations to apply to the dataset\n",
    "transform = transforms.Compose([\n",
    "    transforms.ToTensor(),\n",
    "    transforms.Normalize((0.5, 0.5, 0.5), (0.5, 0.5, 0.5))\n",
    "]) \n",
    "\n",
    "# Download and load the CIFAR-10 training dataset\n",
    "trainset = datasets.CIFAR10(root='./data', train=True, download=True, transform=transform)\n",
    "testset = datasets.CIFAR10(root='./data', train=False, download=True, transform=transform)"
   ]
  },
  {
   "cell_type": "markdown",
   "id": "3bbb245d",
   "metadata": {},
   "source": [
    "# 3 Exploratory Data Analysis"
   ]
  },
  {
   "cell_type": "markdown",
   "id": "a6c632e8",
   "metadata": {},
   "source": [
    "#### Libraries Import and Packages Installation"
   ]
  },
  {
   "cell_type": "code",
   "execution_count": 69,
   "id": "b4cf541e",
   "metadata": {},
   "outputs": [],
   "source": [
    "import matplotlib.pyplot as plt\n",
    "import numpy as np\n",
    "from collections import Counter"
   ]
  },
  {
   "cell_type": "markdown",
   "id": "1309de9a",
   "metadata": {},
   "source": [
    "## 3.1 Overview of the Dataset"
   ]
  },
  {
   "cell_type": "markdown",
   "id": "d1d60cc8",
   "metadata": {},
   "source": [
    "### 3.1.1 General Statistics"
   ]
  },
  {
   "cell_type": "code",
   "execution_count": 70,
   "id": "80c9c544",
   "metadata": {},
   "outputs": [
    {
     "name": "stdout",
     "output_type": "stream",
     "text": [
      "Number of training images: 50000\n",
      "Number of test images: 10000\n"
     ]
    }
   ],
   "source": [
    "# Print the number of images in the training and test datasets\n",
    "print('Number of training images:', len(trainset))\n",
    "print('Number of test images:', len(testset))"
   ]
  },
  {
   "cell_type": "code",
   "execution_count": 71,
   "id": "54bdcb7a",
   "metadata": {},
   "outputs": [
    {
     "name": "stdout",
     "output_type": "stream",
     "text": [
      "Classes: ['airplane', 'automobile', 'bird', 'cat', 'deer', 'dog', 'frog', 'horse', 'ship', 'truck']\n"
     ]
    }
   ],
   "source": [
    "# Print the classes in the dataset\n",
    "class_labels = trainset.classes\n",
    "print('Classes:', class_labels)"
   ]
  },
  {
   "cell_type": "code",
   "execution_count": 72,
   "id": "c90ceab5",
   "metadata": {},
   "outputs": [
    {
     "name": "stderr",
     "output_type": "stream",
     "text": [
      "Clipping input data to the valid range for imshow with RGB data ([0..1] for floats or [0..255] for integers).\n",
      "Clipping input data to the valid range for imshow with RGB data ([0..1] for floats or [0..255] for integers).\n",
      "Clipping input data to the valid range for imshow with RGB data ([0..1] for floats or [0..255] for integers).\n",
      "Clipping input data to the valid range for imshow with RGB data ([0..1] for floats or [0..255] for integers).\n",
      "Clipping input data to the valid range for imshow with RGB data ([0..1] for floats or [0..255] for integers).\n",
      "Clipping input data to the valid range for imshow with RGB data ([0..1] for floats or [0..255] for integers).\n",
      "Clipping input data to the valid range for imshow with RGB data ([0..1] for floats or [0..255] for integers).\n",
      "Clipping input data to the valid range for imshow with RGB data ([0..1] for floats or [0..255] for integers).\n",
      "Clipping input data to the valid range for imshow with RGB data ([0..1] for floats or [0..255] for integers).\n"
     ]
    },
    {
     "data": {
      "image/png": "[encoded data removed]",
      "text/plain": [
       "<Figure size 800x800 with 9 Axes>"
      ]
     },
     "metadata": {},
     "output_type": "display_data"
    }
   ],
   "source": [
    "fig, axes = plt.subplots(3, 3, figsize=(8, 8))\n",
    "fig.suptitle('Image from Each Class')\n",
    "\n",
    "# Iterate over the classes\n",
    "for i, class_name in enumerate(class_labels[:9]):  # Change the range to match the number of classes\n",
    "    # Get the first image from the training set for each class\n",
    "    for image, label in trainset:\n",
    "        if label == i:\n",
    "            ax = axes.flatten()[i]\n",
    "            ax.imshow(image.permute(1, 2, 0))  # Transpose the image array\n",
    "            ax.set_title(class_labels[label])\n",
    "            ax.axis('off')\n",
    "            break"
   ]
  },
  {
   "cell_type": "markdown",
   "id": "1603b3f3",
   "metadata": {},
   "source": [
    "## 3.2 Distribution of Classes"
   ]
  },
  {
   "cell_type": "code",
   "execution_count": 73,
   "id": "31e6d608",
   "metadata": {},
   "outputs": [
    {
     "data": {
      "image/png": "[encoded data removed]",
      "text/plain": [
       "<Figure size 800x600 with 1 Axes>"
      ]
     },
     "metadata": {},
     "output_type": "display_data"
    }
   ],
   "source": [
    "# Count the number of images in each class\n",
    "class_counts = Counter(trainset.targets)\n",
    "\n",
    "# Get counts in the same order as class_labels\n",
    "counts = [class_counts[i] for i in range(len(class_labels))]\n",
    "\n",
    "# Plot the distribution of classes\n",
    "plt.figure(figsize=(8,6))\n",
    "plt.bar(class_labels, counts)\n",
    "plt.title('Class Distribution')\n",
    "plt.xlabel('Class')\n",
    "plt.ylabel('Number of Images')\n",
    "plt.xticks(rotation=45)\n",
    "\n",
    "# Show the plot\n",
    "plt.show()"
   ]
  },
  {
   "cell_type": "markdown",
   "id": "8bb2b309",
   "metadata": {},
   "source": [
    "## 3.3 Image Pixel Statistics"
   ]
  },
  {
   "cell_type": "code",
   "execution_count": 74,
   "id": "c9245606",
   "metadata": {},
   "outputs": [
    {
     "name": "stdout",
     "output_type": "stream",
     "text": [
      "Mean: [0.49139968 0.48215841 0.44653091]\n",
      "Standard Deviation: [0.24703223 0.24348513 0.26158784]\n"
     ]
    }
   ],
   "source": [
    "# Calculate the mean and standard deviation of the pixel values\n",
    "mean = np.mean(trainset.data, axis=(0, 1, 2)) / 255\n",
    "std = np.std(trainset.data, axis=(0, 1, 2)) / 255\n",
    "\n",
    "# Print the pixel statistics\n",
    "print('Mean:', mean)\n",
    "print('Standard Deviation:', std)"
   ]
  },
  {
   "cell_type": "markdown",
   "id": "77cfe398",
   "metadata": {},
   "source": [
    "# 4 Data Pre-processing"
   ]
  },
  {
   "cell_type": "markdown",
   "id": "b004e2cf",
   "metadata": {},
   "source": [
    "#### Libraries Import and Packages Installation"
   ]
  },
  {
   "cell_type": "code",
   "execution_count": 75,
   "id": "9a4481df",
   "metadata": {},
   "outputs": [],
   "source": [
    "from torchvision import transforms"
   ]
  },
  {
   "cell_type": "markdown",
   "id": "f34e8650",
   "metadata": {},
   "source": [
    "## 4.1 Transformation Pipeline"
   ]
  },
  {
   "cell_type": "code",
   "execution_count": 76,
   "id": "381fb542",
   "metadata": {},
   "outputs": [],
   "source": [
    "# Define mean rgb values\n",
    "mean_r = 0.49139968\n",
    "mean_g = 0.48215841\n",
    "mean_b = 0.44653091\n",
    "\n",
    "# Define standard deviation rgb values\n",
    "std_r = 0.24703223\n",
    "std_g = 0.24348513\n",
    "std_b = 0.26158784"
   ]
  },
  {
   "cell_type": "code",
   "execution_count": 77,
   "id": "3f926eb7",
   "metadata": {},
   "outputs": [],
   "source": [
    "# Define the mean and standard deviation for each channel\n",
    "mean = [mean_r, mean_g, mean_b]\n",
    "std = [std_r, std_g, std_b]\n",
    "\n",
    "# Define transformations for the training and test sets\n",
    "train_transform = transforms.Compose([\n",
    "    transforms.RandomHorizontalFlip(),\n",
    "    transforms.RandomRotation(10),\n",
    "    transforms.RandomAffine(0, shear=10, scale=(0.8, 1.2)),\n",
    "    transforms.ColorJitter(brightness=0.2, contrast=0.2, saturation=0.2),\n",
    "    transforms.ToTensor(),\n",
    "    transforms.Normalize(mean, std)\n",
    "])\n",
    "\n",
    "test_transform = transforms.Compose([\n",
    "    transforms.ToTensor(),\n",
    "    transforms.Normalize(mean, std)\n",
    "])"
   ]
  },
  {
   "cell_type": "code",
   "execution_count": 78,
   "id": "ae05cdab",
   "metadata": {},
   "outputs": [],
   "source": [
    "# Apply transformations to the train and test datasets\n",
    "trainset.transform = train_transform\n",
    "testset.transform = test_transform"
   ]
  },
  {
   "cell_type": "markdown",
   "id": "2d9b2dac",
   "metadata": {},
   "source": [
    "## 4.2 Create DataLoaders"
   ]
  },
  {
   "cell_type": "code",
   "execution_count": 79,
   "id": "14bcf688",
   "metadata": {},
   "outputs": [],
   "source": [
    "# Create data loaders\n",
    "trainloader = DataLoader(trainset, batch_size=64, shuffle=True)\n",
    "testloader = DataLoader(testset, batch_size=64, shuffle=True)"
   ]
  },
  {
   "cell_type": "markdown",
   "id": "19798dc9",
   "metadata": {},
   "source": [
    "# 5 Building a Baseline"
   ]
  },
  {
   "cell_type": "markdown",
   "id": "e642ee9a",
   "metadata": {},
   "source": [
    "#### Libraries Import and Packages Installation"
   ]
  },
  {
   "cell_type": "code",
   "execution_count": 80,
   "id": "b179b79e",
   "metadata": {},
   "outputs": [],
   "source": [
    "import torch\n",
    "import torch.nn as nn\n",
    "import torch.optim as optim"
   ]
  },
  {
   "cell_type": "markdown",
   "id": "8a5866e1",
   "metadata": {},
   "source": [
    "## 5.1 Model Architecture"
   ]
  },
  {
   "cell_type": "code",
   "execution_count": 81,
   "id": "815f659d",
   "metadata": {},
   "outputs": [],
   "source": [
    "# Define the baseline CNN model\n",
    "class BaselineModel(nn.Module):\n",
    "    def __init__(self):\n",
    "        super(BaselineModel, self).__init__()\n",
    "        self.conv1 = nn.Conv2d(3, 16, kernel_size=3, stride=1, padding=1)\n",
    "        self.relu1 = nn.ReLU()\n",
    "        self.pool1 = nn.MaxPool2d(kernel_size=2, stride=2)\n",
    "        self.conv2 = nn.Conv2d(16, 32, kernel_size=3, stride=1, padding=1)\n",
    "        self.relu2 = nn.ReLU()\n",
    "        self.pool2 = nn.MaxPool2d(kernel_size=2, stride=2)\n",
    "        self.fc1 = nn.Linear(32 * 8 * 8, 128)\n",
    "        self.relu3 = nn.ReLU()\n",
    "        self.fc2 = nn.Linear(128, 10)\n",
    "\n",
    "    def forward(self, x):\n",
    "        x = self.conv1(x)\n",
    "        x = self.relu1(x)\n",
    "        x = self.pool1(x)\n",
    "        x = self.conv2(x)\n",
    "        x = self.relu2(x)\n",
    "        x = self.pool2(x)\n",
    "        x = x.view(-1, 32 * 8 * 8)\n",
    "        x = self.fc1(x)\n",
    "        x = self.relu3(x)\n",
    "        x = self.fc2(x)\n",
    "        return x"
   ]
  },
  {
   "cell_type": "code",
   "execution_count": 82,
   "id": "8d6eeab4",
   "metadata": {},
   "outputs": [],
   "source": [
    "# Create an instance of the baseline model\n",
    "model = BaselineModel()\n",
    "\n",
    "# Define the loss function and optimizer\n",
    "criterion = nn.CrossEntropyLoss()\n",
    "optimizer = optim.Adam(model.parameters(), lr=0.001)"
   ]
  },
  {
   "cell_type": "code",
   "execution_count": 83,
   "id": "b407bf17",
   "metadata": {},
   "outputs": [
    {
     "name": "stdout",
     "output_type": "stream",
     "text": [
      "Using MPS\n"
     ]
    },
    {
     "data": {
      "text/plain": [
       "BaselineModel(\n",
       "  (conv1): Conv2d(3, 16, kernel_size=(3, 3), stride=(1, 1), padding=(1, 1))\n",
       "  (relu1): ReLU()\n",
       "  (pool1): MaxPool2d(kernel_size=2, stride=2, padding=0, dilation=1, ceil_mode=False)\n",
       "  (conv2): Conv2d(16, 32, kernel_size=(3, 3), stride=(1, 1), padding=(1, 1))\n",
       "  (relu2): ReLU()\n",
       "  (pool2): MaxPool2d(kernel_size=2, stride=2, padding=0, dilation=1, ceil_mode=False)\n",
       "  (fc1): Linear(in_features=2048, out_features=128, bias=True)\n",
       "  (relu3): ReLU()\n",
       "  (fc2): Linear(in_features=128, out_features=10, bias=True)\n",
       ")"
      ]
     },
     "execution_count": 83,
     "metadata": {},
     "output_type": "execute_result"
    }
   ],
   "source": [
    "# Set the device to CUDA if available, otherwise MPS if available, otherwise CPU\n",
    "if torch.cuda.is_available():\n",
    "    device = torch.device('cuda')\n",
    "    print('Using CUDA')\n",
    "elif torch.backends.mps.is_available():\n",
    "    device = torch.device('mps')\n",
    "    print('Using MPS')\n",
    "else:\n",
    "    device = torch.device('cpu')\n",
    "    print('Using CPU')\n",
    "\n",
    "# Move the model to the selected device\n",
    "model.to(device)"
   ]
  },
  {
   "cell_type": "markdown",
   "id": "deaedc5b",
   "metadata": {},
   "source": [
    "## 5.2 Model Training"
   ]
  },
  {
   "cell_type": "code",
   "execution_count": 84,
   "id": "08b361eb",
   "metadata": {},
   "outputs": [
    {
     "name": "stdout",
     "output_type": "stream",
     "text": [
      "Epoch [1/10], Average Loss: 1.5275, Accuracy: 0.4502\n",
      "Epoch [2/10], Average Loss: 1.2435, Accuracy: 0.5594\n",
      "Epoch [3/10], Average Loss: 1.1311, Accuracy: 0.5980\n",
      "Epoch [4/10], Average Loss: 1.0732, Accuracy: 0.6192\n",
      "Epoch [5/10], Average Loss: 1.0165, Accuracy: 0.6442\n",
      "Epoch [6/10], Average Loss: 0.9786, Accuracy: 0.6539\n",
      "Epoch [7/10], Average Loss: 0.9433, Accuracy: 0.6684\n",
      "Epoch [8/10], Average Loss: 0.9190, Accuracy: 0.6766\n",
      "Epoch [9/10], Average Loss: 0.8926, Accuracy: 0.6850\n",
      "Epoch [10/10], Average Loss: 0.8736, Accuracy: 0.6917\n"
     ]
    }
   ],
   "source": [
    "# Set the number of epochs\n",
    "num_epochs = 10\n",
    "\n",
    "loss_history = []\n",
    "accuracy_history = []\n",
    "\n",
    "# Training loop\n",
    "for epoch in range(num_epochs):\n",
    "    # Set the model to training mode\n",
    "    model.train()\n",
    "    \n",
    "    # Initialize the running loss and correct predictions\n",
    "    running_loss = 0.0\n",
    "    correct_predictions = 0\n",
    "    \n",
    "    # Iterate over the training dataset\n",
    "    for images, labels in trainloader:\n",
    "        # Move the images and labels to the device\n",
    "        images = images.to(device)\n",
    "        labels = labels.to(device)\n",
    "        \n",
    "        # Zero the gradients\n",
    "        optimizer.zero_grad()\n",
    "        \n",
    "        # Forward pass\n",
    "        outputs = model(images)\n",
    "        \n",
    "        # Calculate the loss\n",
    "        loss = criterion(outputs, labels)\n",
    "        \n",
    "        # Backward pass\n",
    "        loss.backward()\n",
    "        \n",
    "        # Update the weights\n",
    "        optimizer.step()\n",
    "        \n",
    "        # Update the running loss\n",
    "        running_loss += loss.item()\n",
    "        \n",
    "        # Calculate the predicted labels\n",
    "        _, predicted = torch.max(outputs.data, 1)\n",
    "        \n",
    "        # Update the correct predictions\n",
    "        correct_predictions += (predicted == labels).sum().item()\n",
    "    \n",
    "    # Calculate the average loss and accuracy for the epoch\n",
    "    average_loss = running_loss / len(trainloader)\n",
    "    accuracy = correct_predictions / len(trainset)\n",
    "\n",
    "    loss_history.append(average_loss)\n",
    "    accuracy_history.append(accuracy)\n",
    "    \n",
    "    # Print the epoch number, average loss, and accuracy\n",
    "    print(f\"Epoch [{epoch+1}/{num_epochs}], Average Loss: {average_loss:.4f}, Accuracy: {accuracy:.4f}\")\n"
   ]
  },
  {
   "cell_type": "code",
   "execution_count": 85,
   "id": "100ec3ae",
   "metadata": {},
   "outputs": [
    {
     "data": {
      "image/png": "[encoded data removed]",
      "text/plain": [
       "<Figure size 640x480 with 1 Axes>"
      ]
     },
     "metadata": {},
     "output_type": "display_data"
    }
   ],
   "source": [
    "# Plot the loss history and accuracy history against epoch\n",
    "plt.plot(range(1, num_epochs+1), loss_history, label='Loss')\n",
    "plt.plot(range(1, num_epochs+1), accuracy_history, label='Accuracy')\n",
    "\n",
    "# Set the x-axis label and y-axis label\n",
    "plt.xlabel('Epoch')\n",
    "plt.ylabel('Value')\n",
    "\n",
    "# Set the title of the graph\n",
    "plt.title('Loss and Accuracy History')\n",
    "\n",
    "# Add a legend\n",
    "plt.legend()\n",
    "\n",
    "# Show the plot\n",
    "plt.show()"
   ]
  },
  {
   "cell_type": "markdown",
   "id": "a2ea27ca",
   "metadata": {},
   "source": [
    "## 5.3 Model Evaluation"
   ]
  },
  {
   "cell_type": "code",
   "execution_count": 86,
   "id": "99534378",
   "metadata": {},
   "outputs": [
    {
     "name": "stdout",
     "output_type": "stream",
     "text": [
      "Test Set - Average Loss: 0.8215, Accuracy: 0.7115\n"
     ]
    }
   ],
   "source": [
    "# Set the model to evaluation mode\n",
    "model.eval()\n",
    "\n",
    "# Initialize the running loss and correct predictions\n",
    "running_loss = 0.0\n",
    "correct_predictions = 0\n",
    "\n",
    "# Disable gradient calculation\n",
    "with torch.no_grad():\n",
    "    # Iterate over the test dataset\n",
    "    for images, labels in testloader:\n",
    "        # Move the images and labels to the device\n",
    "        images = images.to(device)\n",
    "        labels = labels.to(device)\n",
    "\n",
    "        # Forward pass\n",
    "        outputs = model(images)\n",
    "\n",
    "        # Calculate the loss\n",
    "        loss = criterion(outputs, labels)\n",
    "\n",
    "        # Update the running loss\n",
    "        running_loss += loss.item()\n",
    "\n",
    "        # Calculate the predicted labels\n",
    "        _, predicted = torch.max(outputs.data, 1)\n",
    "\n",
    "        # Update the correct predictions\n",
    "        correct_predictions += (predicted == labels).sum().item()\n",
    "\n",
    "# Calculate the average loss and accuracy for the test set\n",
    "average_loss = running_loss / len(testloader)\n",
    "accuracy = correct_predictions / len(testset)\n",
    "\n",
    "# Print the average loss and accuracy\n",
    "print(f\"Test Set - Average Loss: {average_loss:.4f}, Accuracy: {accuracy:.4f}\")"
   ]
  },
  {
   "cell_type": "markdown",
   "id": "f54dca4e",
   "metadata": {},
   "source": [
    "# 6 Building a Better Model"
   ]
  },
  {
   "cell_type": "markdown",
   "id": "88f0d0f3",
   "metadata": {},
   "source": [
    "#### Libraries Import and Packages Installation"
   ]
  },
  {
   "cell_type": "code",
   "execution_count": null,
   "id": "8cb63392",
   "metadata": {},
   "outputs": [],
   "source": []
  },
  {
   "cell_type": "markdown",
   "id": "cbe6cb73",
   "metadata": {},
   "source": [
    "## 6.1 Model Architecture"
   ]
  },
  {
   "cell_type": "code",
   "execution_count": 87,
   "id": "0527c2b5",
   "metadata": {},
   "outputs": [],
   "source": [
    "# Define the improved model architecture\n",
    "class ImprovedModel(nn.Module):\n",
    "    def __init__(self):\n",
    "        super(ImprovedModel, self).__init__()\n",
    "        self.conv1 = nn.Conv2d(3, 32, kernel_size=3, stride=1, padding=1)\n",
    "        self.relu1 = nn.ReLU()\n",
    "        self.conv2 = nn.Conv2d(32, 64, kernel_size=3, stride=1, padding=1)\n",
    "        self.relu2 = nn.ReLU()\n",
    "        self.pool1 = nn.MaxPool2d(kernel_size=2, stride=2)\n",
    "        self.conv3 = nn.Conv2d(64, 128, kernel_size=3, stride=1, padding=1)\n",
    "        self.relu3 = nn.ReLU()\n",
    "        self.conv4 = nn.Conv2d(128, 128, kernel_size=3, stride=1, padding=1)\n",
    "        self.relu4 = nn.ReLU()\n",
    "        self.pool2 = nn.MaxPool2d(kernel_size=2, stride=2)\n",
    "        self.fc1 = nn.Linear(128 * 8 * 8, 256)\n",
    "        self.relu5 = nn.ReLU()\n",
    "        self.dropout = nn.Dropout(0.5)\n",
    "        self.fc2 = nn.Linear(256, 10)\n",
    "\n",
    "    def forward(self, x):\n",
    "        x = self.conv1(x)\n",
    "        x = self.relu1(x)\n",
    "        x = self.conv2(x)\n",
    "        x = self.relu2(x)\n",
    "        x = self.pool1(x)\n",
    "        x = self.conv3(x)\n",
    "        x = self.relu3(x)\n",
    "        x = self.conv4(x)\n",
    "        x = self.relu4(x)\n",
    "        x = self.pool2(x)\n",
    "        x = x.view(-1, 128 * 8 * 8)\n",
    "        x = self.fc1(x)\n",
    "        x = self.relu5(x)\n",
    "        x = self.dropout(x)\n",
    "        x = self.fc2(x)\n",
    "        return x"
   ]
  },
  {
   "cell_type": "code",
   "execution_count": 88,
   "id": "b5ea5086",
   "metadata": {},
   "outputs": [],
   "source": [
    "# Create an instance of the improved model\n",
    "model = ImprovedModel()\n",
    "\n",
    "# Define the loss function and optimizer\n",
    "criterion = nn.CrossEntropyLoss()\n",
    "optimizer = optim.Adam(model.parameters(), lr=0.001)"
   ]
  },
  {
   "cell_type": "code",
   "execution_count": 90,
   "id": "638a686a",
   "metadata": {},
   "outputs": [
    {
     "data": {
      "text/plain": [
       "ImprovedModel(\n",
       "  (conv1): Conv2d(3, 32, kernel_size=(3, 3), stride=(1, 1), padding=(1, 1))\n",
       "  (relu1): ReLU()\n",
       "  (conv2): Conv2d(32, 64, kernel_size=(3, 3), stride=(1, 1), padding=(1, 1))\n",
       "  (relu2): ReLU()\n",
       "  (pool1): MaxPool2d(kernel_size=2, stride=2, padding=0, dilation=1, ceil_mode=False)\n",
       "  (conv3): Conv2d(64, 128, kernel_size=(3, 3), stride=(1, 1), padding=(1, 1))\n",
       "  (relu3): ReLU()\n",
       "  (conv4): Conv2d(128, 128, kernel_size=(3, 3), stride=(1, 1), padding=(1, 1))\n",
       "  (relu4): ReLU()\n",
       "  (pool2): MaxPool2d(kernel_size=2, stride=2, padding=0, dilation=1, ceil_mode=False)\n",
       "  (fc1): Linear(in_features=8192, out_features=256, bias=True)\n",
       "  (relu5): ReLU()\n",
       "  (dropout): Dropout(p=0.5, inplace=False)\n",
       "  (fc2): Linear(in_features=256, out_features=10, bias=True)\n",
       ")"
      ]
     },
     "execution_count": 90,
     "metadata": {},
     "output_type": "execute_result"
    }
   ],
   "source": [
    "# Move the model to the selected device\n",
    "model.to(device)"
   ]
  },
  {
   "cell_type": "markdown",
   "id": "c8a1d367",
   "metadata": {},
   "source": [
    "## 6.2 Model Training"
   ]
  },
  {
   "cell_type": "code",
   "execution_count": 91,
   "id": "5dbc3b1e",
   "metadata": {},
   "outputs": [
    {
     "name": "stdout",
     "output_type": "stream",
     "text": [
      "Epoch [1/20], Average Loss: 1.6228, Accuracy: 0.4020\n",
      "Epoch [2/20], Average Loss: 1.2667, Accuracy: 0.5455\n",
      "Epoch [3/20], Average Loss: 1.1036, Accuracy: 0.6101\n",
      "Epoch [4/20], Average Loss: 1.0001, Accuracy: 0.6494\n",
      "Epoch [5/20], Average Loss: 0.9277, Accuracy: 0.6766\n",
      "Epoch [6/20], Average Loss: 0.8891, Accuracy: 0.6908\n",
      "Epoch [7/20], Average Loss: 0.8571, Accuracy: 0.7037\n",
      "Epoch [8/20], Average Loss: 0.8393, Accuracy: 0.7098\n",
      "Epoch [9/20], Average Loss: 0.8084, Accuracy: 0.7221\n",
      "Epoch [10/20], Average Loss: 0.7891, Accuracy: 0.7265\n",
      "Epoch [11/20], Average Loss: 0.7721, Accuracy: 0.7352\n",
      "Epoch [12/20], Average Loss: 0.7600, Accuracy: 0.7382\n",
      "Epoch [13/20], Average Loss: 0.7450, Accuracy: 0.7417\n",
      "Epoch [14/20], Average Loss: 0.7317, Accuracy: 0.7461\n",
      "Epoch [15/20], Average Loss: 0.7234, Accuracy: 0.7511\n",
      "Epoch [16/20], Average Loss: 0.7089, Accuracy: 0.7555\n",
      "Epoch [17/20], Average Loss: 0.7069, Accuracy: 0.7579\n",
      "Epoch [18/20], Average Loss: 0.6949, Accuracy: 0.7603\n",
      "Epoch [19/20], Average Loss: 0.6854, Accuracy: 0.7643\n",
      "Epoch [20/20], Average Loss: 0.6829, Accuracy: 0.7649\n"
     ]
    }
   ],
   "source": [
    "# Set the number of epochs\n",
    "num_epochs = 20\n",
    "\n",
    "loss_history = []\n",
    "accuracy_history = []\n",
    "\n",
    "# Initialize variables for early stopping\n",
    "best_loss = float('inf')\n",
    "patience = 3\n",
    "no_improvement = 0\n",
    "\n",
    "# Training loop\n",
    "for epoch in range(num_epochs):\n",
    "    # Set the model to training mode\n",
    "    model.train()\n",
    "    \n",
    "    # Initialize the running loss and correct predictions\n",
    "    running_loss = 0.0\n",
    "    correct_predictions = 0\n",
    "    \n",
    "    # Iterate over the training dataset\n",
    "    for images, labels in trainloader:\n",
    "        # Move the images and labels to the device\n",
    "        images = images.to(device)\n",
    "        labels = labels.to(device)\n",
    "        \n",
    "        # Zero the gradients\n",
    "        optimizer.zero_grad()\n",
    "        \n",
    "        # Forward pass\n",
    "        outputs = model(images)\n",
    "        \n",
    "        # Calculate the loss\n",
    "        loss = criterion(outputs, labels)\n",
    "        \n",
    "        # Backward pass\n",
    "        loss.backward()\n",
    "        \n",
    "        # Update the weights\n",
    "        optimizer.step()\n",
    "        \n",
    "        # Update the running loss\n",
    "        running_loss += loss.item()\n",
    "        \n",
    "        # Calculate the predicted labels\n",
    "        _, predicted = torch.max(outputs.data, 1)\n",
    "        \n",
    "        # Update the correct predictions\n",
    "        correct_predictions += (predicted == labels).sum().item()\n",
    "    \n",
    "    # Calculate the average loss and accuracy for the epoch\n",
    "    average_loss = running_loss / len(trainloader)\n",
    "    accuracy = correct_predictions / len(trainset)\n",
    "\n",
    "    loss_history.append(average_loss)\n",
    "    accuracy_history.append(accuracy)\n",
    "    \n",
    "    # Print the epoch number, average loss, and accuracy\n",
    "    print(f\"Epoch [{epoch+1}/{num_epochs}], Average Loss: {average_loss:.4f}, Accuracy: {accuracy:.4f}\")\n",
    "    \n",
    "    # Check if the validation loss is not improving\n",
    "    if average_loss >= best_loss:\n",
    "        no_improvement += 1\n",
    "    else:\n",
    "        best_loss = average_loss\n",
    "        no_improvement = 0\n",
    "    \n",
    "    # Check if early stopping condition is met\n",
    "    if no_improvement >= patience:\n",
    "        print(\"Early stopping!\")\n",
    "        break\n"
   ]
  },
  {
   "cell_type": "code",
   "execution_count": 92,
   "id": "97d77541",
   "metadata": {},
   "outputs": [
    {
     "data": {
      "image/png": "[encoded data removed]",
      "text/plain": [
       "<Figure size 640x480 with 1 Axes>"
      ]
     },
     "metadata": {},
     "output_type": "display_data"
    }
   ],
   "source": [
    "# Plot the loss history and accuracy history against epoch\n",
    "plt.plot(range(1, num_epochs+1), loss_history, label='Loss')\n",
    "plt.plot(range(1, num_epochs+1), accuracy_history, label='Accuracy')\n",
    "\n",
    "# Set the x-axis label and y-axis label\n",
    "plt.xlabel('Epoch')\n",
    "plt.ylabel('Value')\n",
    "\n",
    "# Set the title of the graph\n",
    "plt.title('Loss and Accuracy History')\n",
    "\n",
    "# Add a legend\n",
    "plt.legend()\n",
    "\n",
    "# Show the plot\n",
    "plt.show()"
   ]
  },
  {
   "cell_type": "markdown",
   "id": "5c1b5834",
   "metadata": {},
   "source": [
    "## 6.4 Model Evaluation"
   ]
  },
  {
   "cell_type": "code",
   "execution_count": 93,
   "id": "bcc19741",
   "metadata": {},
   "outputs": [
    {
     "name": "stdout",
     "output_type": "stream",
     "text": [
      "Test Set - Average Loss: 0.5832, Accuracy: 0.8046\n"
     ]
    }
   ],
   "source": [
    "# Set the model to evaluation mode\n",
    "model.eval()\n",
    "\n",
    "# Initialize the running loss and correct predictions\n",
    "running_loss = 0.0\n",
    "correct_predictions = 0\n",
    "\n",
    "# Disable gradient calculation\n",
    "with torch.no_grad():\n",
    "    # Iterate over the test dataset\n",
    "    for images, labels in testloader:\n",
    "        # Move the images and labels to the device\n",
    "        images = images.to(device)\n",
    "        labels = labels.to(device)\n",
    "\n",
    "        # Forward pass\n",
    "        outputs = model(images)\n",
    "\n",
    "        # Calculate the loss\n",
    "        loss = criterion(outputs, labels)\n",
    "\n",
    "        # Update the running loss\n",
    "        running_loss += loss.item()\n",
    "\n",
    "        # Calculate the predicted labels\n",
    "        _, predicted = torch.max(outputs.data, 1)\n",
    "\n",
    "        # Update the correct predictions\n",
    "        correct_predictions += (predicted == labels).sum().item()\n",
    "\n",
    "# Calculate the average loss and accuracy for the test set\n",
    "average_loss = running_loss / len(testloader)\n",
    "accuracy = correct_predictions / len(testset)\n",
    "\n",
    "# Print the average loss and accuracy\n",
    "print(f\"Test Set - Average Loss: {average_loss:.4f}, Accuracy: {accuracy:.4f}\")"
   ]
  }
 ],
 "metadata": {
  "kernelspec": {
   "display_name": "Python 3 (ipykernel)",
   "language": "python",
   "name": "python3"
  },
  "language_info": {
   "codemirror_mode": {
    "name": "ipython",
    "version": 3
   },
   "file_extension": ".py",
   "mimetype": "text/x-python",
   "name": "python",
   "nbconvert_exporter": "python",
   "pygments_lexer": "ipython3",
   "version": "3.9.6"
  }
 },
 "nbformat": 4,
 "nbformat_minor": 5
}
